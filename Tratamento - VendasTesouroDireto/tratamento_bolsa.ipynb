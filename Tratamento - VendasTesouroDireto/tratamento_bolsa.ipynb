{
 "cells": [
  {
   "cell_type": "code",
   "execution_count": 11,
   "id": "699bfed1",
   "metadata": {},
   "outputs": [],
   "source": [
    "# Importando biblioteca\n",
    "import pandas as pd"
   ]
  },
  {
   "cell_type": "code",
   "execution_count": 12,
   "id": "0e317eb5",
   "metadata": {},
   "outputs": [
    {
     "data": {
      "text/html": [
       "<div>\n",
       "<style scoped>\n",
       "    .dataframe tbody tr th:only-of-type {\n",
       "        vertical-align: middle;\n",
       "    }\n",
       "\n",
       "    .dataframe tbody tr th {\n",
       "        vertical-align: top;\n",
       "    }\n",
       "\n",
       "    .dataframe thead th {\n",
       "        text-align: right;\n",
       "    }\n",
       "</style>\n",
       "<table border=\"1\" class=\"dataframe\">\n",
       "  <thead>\n",
       "    <tr style=\"text-align: right;\">\n",
       "      <th></th>\n",
       "      <th>Tipo Titulo</th>\n",
       "      <th>Vencimento do Titulo</th>\n",
       "      <th>Data Venda</th>\n",
       "      <th>PU</th>\n",
       "      <th>Quantidade</th>\n",
       "      <th>Valor</th>\n",
       "    </tr>\n",
       "  </thead>\n",
       "  <tbody>\n",
       "    <tr>\n",
       "      <th>0</th>\n",
       "      <td>Tesouro IPCA+</td>\n",
       "      <td>15/05/2045</td>\n",
       "      <td>19/07/2022</td>\n",
       "      <td>1041,280575</td>\n",
       "      <td>5822,67</td>\n",
       "      <td>6063033,16</td>\n",
       "    </tr>\n",
       "    <tr>\n",
       "      <th>1</th>\n",
       "      <td>Tesouro Prefixado</td>\n",
       "      <td>01/01/2025</td>\n",
       "      <td>19/07/2022</td>\n",
       "      <td>736,962419</td>\n",
       "      <td>21181,39</td>\n",
       "      <td>15609888,41</td>\n",
       "    </tr>\n",
       "    <tr>\n",
       "      <th>2</th>\n",
       "      <td>Tesouro IPCA+ com Juros Semestrais</td>\n",
       "      <td>15/05/2055</td>\n",
       "      <td>19/07/2022</td>\n",
       "      <td>3950,332418</td>\n",
       "      <td>1140,67</td>\n",
       "      <td>4506025,67</td>\n",
       "    </tr>\n",
       "    <tr>\n",
       "      <th>3</th>\n",
       "      <td>Tesouro IPCA+</td>\n",
       "      <td>15/08/2026</td>\n",
       "      <td>05/09/2022</td>\n",
       "      <td>3192,498819</td>\n",
       "      <td>4291,11</td>\n",
       "      <td>13699363,60</td>\n",
       "    </tr>\n",
       "    <tr>\n",
       "      <th>4</th>\n",
       "      <td>Tesouro Selic</td>\n",
       "      <td>01/03/2027</td>\n",
       "      <td>05/09/2022</td>\n",
       "      <td>12027,671690</td>\n",
       "      <td>4609,25</td>\n",
       "      <td>55438545,73</td>\n",
       "    </tr>\n",
       "    <tr>\n",
       "      <th>...</th>\n",
       "      <td>...</td>\n",
       "      <td>...</td>\n",
       "      <td>...</td>\n",
       "      <td>...</td>\n",
       "      <td>...</td>\n",
       "      <td>...</td>\n",
       "    </tr>\n",
       "    <tr>\n",
       "      <th>72136</th>\n",
       "      <td>Tesouro IPCA+ com Juros Semestrais</td>\n",
       "      <td>15/05/2055</td>\n",
       "      <td>15/03/2023</td>\n",
       "      <td>3951,899879</td>\n",
       "      <td>1035,25</td>\n",
       "      <td>4091204,34</td>\n",
       "    </tr>\n",
       "    <tr>\n",
       "      <th>72137</th>\n",
       "      <td>Tesouro Prefixado</td>\n",
       "      <td>01/01/2029</td>\n",
       "      <td>15/03/2023</td>\n",
       "      <td>492,562862</td>\n",
       "      <td>31110,21</td>\n",
       "      <td>15323734,07</td>\n",
       "    </tr>\n",
       "    <tr>\n",
       "      <th>72138</th>\n",
       "      <td>Tesouro IPCA+ com Juros Semestrais</td>\n",
       "      <td>15/08/2032</td>\n",
       "      <td>15/03/2023</td>\n",
       "      <td>4046,625863</td>\n",
       "      <td>1173,69</td>\n",
       "      <td>4749484,30</td>\n",
       "    </tr>\n",
       "    <tr>\n",
       "      <th>72139</th>\n",
       "      <td>Tesouro Prefixado com Juros Semestrais</td>\n",
       "      <td>01/01/2033</td>\n",
       "      <td>15/03/2023</td>\n",
       "      <td>859,683333</td>\n",
       "      <td>5351,21</td>\n",
       "      <td>4600346,04</td>\n",
       "    </tr>\n",
       "    <tr>\n",
       "      <th>72140</th>\n",
       "      <td>Tesouro Selic</td>\n",
       "      <td>01/03/2026</td>\n",
       "      <td>15/03/2023</td>\n",
       "      <td>12921,903313</td>\n",
       "      <td>6715,85</td>\n",
       "      <td>86781564,36</td>\n",
       "    </tr>\n",
       "  </tbody>\n",
       "</table>\n",
       "<p>72141 rows × 6 columns</p>\n",
       "</div>"
      ],
      "text/plain": [
       "                                  Tipo Titulo Vencimento do Titulo  \\\n",
       "0                               Tesouro IPCA+           15/05/2045   \n",
       "1                           Tesouro Prefixado           01/01/2025   \n",
       "2          Tesouro IPCA+ com Juros Semestrais           15/05/2055   \n",
       "3                               Tesouro IPCA+           15/08/2026   \n",
       "4                               Tesouro Selic           01/03/2027   \n",
       "...                                       ...                  ...   \n",
       "72136      Tesouro IPCA+ com Juros Semestrais           15/05/2055   \n",
       "72137                       Tesouro Prefixado           01/01/2029   \n",
       "72138      Tesouro IPCA+ com Juros Semestrais           15/08/2032   \n",
       "72139  Tesouro Prefixado com Juros Semestrais           01/01/2033   \n",
       "72140                           Tesouro Selic           01/03/2026   \n",
       "\n",
       "       Data Venda            PU Quantidade        Valor  \n",
       "0      19/07/2022   1041,280575    5822,67   6063033,16  \n",
       "1      19/07/2022    736,962419   21181,39  15609888,41  \n",
       "2      19/07/2022   3950,332418    1140,67   4506025,67  \n",
       "3      05/09/2022   3192,498819    4291,11  13699363,60  \n",
       "4      05/09/2022  12027,671690    4609,25  55438545,73  \n",
       "...           ...           ...        ...          ...  \n",
       "72136  15/03/2023   3951,899879    1035,25   4091204,34  \n",
       "72137  15/03/2023    492,562862   31110,21  15323734,07  \n",
       "72138  15/03/2023   4046,625863    1173,69   4749484,30  \n",
       "72139  15/03/2023    859,683333    5351,21   4600346,04  \n",
       "72140  15/03/2023  12921,903313    6715,85  86781564,36  \n",
       "\n",
       "[72141 rows x 6 columns]"
      ]
     },
     "execution_count": 12,
     "metadata": {},
     "output_type": "execute_result"
    }
   ],
   "source": [
    "# Carregando tabela e apelidando de 'df'\n",
    "df = pd.read_csv(\"VendasTesouroDireto.csv\", sep=';')\n",
    "df"
   ]
  },
  {
   "cell_type": "code",
   "execution_count": 13,
   "id": "a71090b2",
   "metadata": {},
   "outputs": [
    {
     "name": "stdout",
     "output_type": "stream",
     "text": [
      "<class 'pandas.core.frame.DataFrame'>\n",
      "RangeIndex: 72141 entries, 0 to 72140\n",
      "Data columns (total 6 columns):\n",
      " #   Column                Non-Null Count  Dtype \n",
      "---  ------                --------------  ----- \n",
      " 0   Tipo Titulo           72141 non-null  object\n",
      " 1   Vencimento do Titulo  72141 non-null  object\n",
      " 2   Data Venda            72141 non-null  object\n",
      " 3   PU                    72141 non-null  object\n",
      " 4   Quantidade            72141 non-null  object\n",
      " 5   Valor                 72141 non-null  object\n",
      "dtypes: object(6)\n",
      "memory usage: 3.3+ MB\n"
     ]
    }
   ],
   "source": [
    "# Vizualizando as primeiras informações foi possível percerber que\n",
    "# o principal erro está nos tipos de dados identificados\n",
    "# os quais todos estão como string\n",
    "# A provável causa desses erros esta na utilização de caracteres inválidos\n",
    "# que o pandas entende que são textos e não valores numéricos\n",
    "df.info()"
   ]
  },
  {
   "cell_type": "code",
   "execution_count": 14,
   "id": "bbb3abc2",
   "metadata": {},
   "outputs": [],
   "source": [
    "# Começo o tratamento trocando a ',' das colunas por um '.' para\n",
    "# conseguir transformar o tipo de dado\n",
    "colunas = ['PU', 'Quantidade', 'Valor']\n",
    "for coluna in colunas:\n",
    "    df[coluna] = df[coluna].str.replace(',', '.')"
   ]
  },
  {
   "cell_type": "code",
   "execution_count": 15,
   "id": "2fd5d837",
   "metadata": {},
   "outputs": [
    {
     "data": {
      "text/html": [
       "<div>\n",
       "<style scoped>\n",
       "    .dataframe tbody tr th:only-of-type {\n",
       "        vertical-align: middle;\n",
       "    }\n",
       "\n",
       "    .dataframe tbody tr th {\n",
       "        vertical-align: top;\n",
       "    }\n",
       "\n",
       "    .dataframe thead th {\n",
       "        text-align: right;\n",
       "    }\n",
       "</style>\n",
       "<table border=\"1\" class=\"dataframe\">\n",
       "  <thead>\n",
       "    <tr style=\"text-align: right;\">\n",
       "      <th></th>\n",
       "      <th>Tipo Titulo</th>\n",
       "      <th>Vencimento do Titulo</th>\n",
       "      <th>Data Venda</th>\n",
       "      <th>PU</th>\n",
       "      <th>Quantidade</th>\n",
       "      <th>Valor</th>\n",
       "    </tr>\n",
       "  </thead>\n",
       "  <tbody>\n",
       "    <tr>\n",
       "      <th>0</th>\n",
       "      <td>Tesouro IPCA+</td>\n",
       "      <td>15/05/2045</td>\n",
       "      <td>19/07/2022</td>\n",
       "      <td>1041.280575</td>\n",
       "      <td>5822.67</td>\n",
       "      <td>6063033.16</td>\n",
       "    </tr>\n",
       "    <tr>\n",
       "      <th>1</th>\n",
       "      <td>Tesouro Prefixado</td>\n",
       "      <td>01/01/2025</td>\n",
       "      <td>19/07/2022</td>\n",
       "      <td>736.962419</td>\n",
       "      <td>21181.39</td>\n",
       "      <td>15609888.41</td>\n",
       "    </tr>\n",
       "    <tr>\n",
       "      <th>2</th>\n",
       "      <td>Tesouro IPCA+ com Juros Semestrais</td>\n",
       "      <td>15/05/2055</td>\n",
       "      <td>19/07/2022</td>\n",
       "      <td>3950.332418</td>\n",
       "      <td>1140.67</td>\n",
       "      <td>4506025.67</td>\n",
       "    </tr>\n",
       "  </tbody>\n",
       "</table>\n",
       "</div>"
      ],
      "text/plain": [
       "                          Tipo Titulo Vencimento do Titulo  Data Venda  \\\n",
       "0                       Tesouro IPCA+           15/05/2045  19/07/2022   \n",
       "1                   Tesouro Prefixado           01/01/2025  19/07/2022   \n",
       "2  Tesouro IPCA+ com Juros Semestrais           15/05/2055  19/07/2022   \n",
       "\n",
       "            PU Quantidade        Valor  \n",
       "0  1041.280575    5822.67   6063033.16  \n",
       "1   736.962419   21181.39  15609888.41  \n",
       "2  3950.332418    1140.67   4506025.67  "
      ]
     },
     "execution_count": 15,
     "metadata": {},
     "output_type": "execute_result"
    }
   ],
   "source": [
    "# Vizualizando se está correto agora\n",
    "df.head(3)"
   ]
  },
  {
   "cell_type": "code",
   "execution_count": 16,
   "id": "27e8db64",
   "metadata": {
    "scrolled": true
   },
   "outputs": [],
   "source": [
    "# Alterando o tipo de dado da coluna\n",
    "# string ==> float\n",
    "colunas = ['PU', 'Quantidade', 'Valor']\n",
    "for coluna in colunas:\n",
    "    df[coluna] = pd.to_numeric(df[coluna], errors='coerce')"
   ]
  },
  {
   "cell_type": "code",
   "execution_count": 17,
   "id": "a4753a11",
   "metadata": {
    "scrolled": true
   },
   "outputs": [
    {
     "name": "stdout",
     "output_type": "stream",
     "text": [
      "<class 'pandas.core.frame.DataFrame'>\n",
      "RangeIndex: 72141 entries, 0 to 72140\n",
      "Data columns (total 6 columns):\n",
      " #   Column                Non-Null Count  Dtype  \n",
      "---  ------                --------------  -----  \n",
      " 0   Tipo Titulo           72141 non-null  object \n",
      " 1   Vencimento do Titulo  72141 non-null  object \n",
      " 2   Data Venda            72141 non-null  object \n",
      " 3   PU                    72141 non-null  float64\n",
      " 4   Quantidade            72141 non-null  float64\n",
      " 5   Valor                 72141 non-null  float64\n",
      "dtypes: float64(3), object(3)\n",
      "memory usage: 3.3+ MB\n"
     ]
    }
   ],
   "source": [
    "# Vizualizando a conversão\n",
    "df.info()"
   ]
  },
  {
   "cell_type": "code",
   "execution_count": 18,
   "id": "6d221e9e",
   "metadata": {},
   "outputs": [],
   "source": [
    "# Agora vamos tratar as colunas de data, que por estarem utilizando a \"/\"\n",
    "# o pandas interpreta como texto\n",
    "# PS: note que eu utilizo laços for para esses tratamentos para evitar \n",
    "# repetição de código e atingir uma melhor performance\n",
    "colunas = ['Vencimento do Titulo', 'Data Venda']\n",
    "for coluna in colunas:\n",
    "    df[coluna] = pd.to_datetime(df[coluna], format='%d/%m/%Y')    "
   ]
  },
  {
   "cell_type": "code",
   "execution_count": 19,
   "id": "fa49e887",
   "metadata": {
    "scrolled": true
   },
   "outputs": [
    {
     "name": "stdout",
     "output_type": "stream",
     "text": [
      "<class 'pandas.core.frame.DataFrame'>\n",
      "RangeIndex: 72141 entries, 0 to 72140\n",
      "Data columns (total 6 columns):\n",
      " #   Column                Non-Null Count  Dtype         \n",
      "---  ------                --------------  -----         \n",
      " 0   Tipo Titulo           72141 non-null  object        \n",
      " 1   Vencimento do Titulo  72141 non-null  datetime64[ns]\n",
      " 2   Data Venda            72141 non-null  datetime64[ns]\n",
      " 3   PU                    72141 non-null  float64       \n",
      " 4   Quantidade            72141 non-null  float64       \n",
      " 5   Valor                 72141 non-null  float64       \n",
      "dtypes: datetime64[ns](2), float64(3), object(1)\n",
      "memory usage: 3.3+ MB\n"
     ]
    }
   ],
   "source": [
    "# Vizualizando agora se está correto\n",
    "df.info()"
   ]
  },
  {
   "cell_type": "code",
   "execution_count": 20,
   "id": "32c49fa1",
   "metadata": {
    "scrolled": true
   },
   "outputs": [
    {
     "data": {
      "text/html": [
       "<div>\n",
       "<style scoped>\n",
       "    .dataframe tbody tr th:only-of-type {\n",
       "        vertical-align: middle;\n",
       "    }\n",
       "\n",
       "    .dataframe tbody tr th {\n",
       "        vertical-align: top;\n",
       "    }\n",
       "\n",
       "    .dataframe thead th {\n",
       "        text-align: right;\n",
       "    }\n",
       "</style>\n",
       "<table border=\"1\" class=\"dataframe\">\n",
       "  <thead>\n",
       "    <tr style=\"text-align: right;\">\n",
       "      <th></th>\n",
       "      <th>Tipo Titulo</th>\n",
       "      <th>Vencimento do Titulo</th>\n",
       "      <th>Data Venda</th>\n",
       "      <th>PU</th>\n",
       "      <th>Quantidade</th>\n",
       "      <th>Valor</th>\n",
       "    </tr>\n",
       "  </thead>\n",
       "  <tbody>\n",
       "    <tr>\n",
       "      <th>0</th>\n",
       "      <td>Tesouro IPCA+</td>\n",
       "      <td>2045-05-15</td>\n",
       "      <td>2022-07-19</td>\n",
       "      <td>1041.280575</td>\n",
       "      <td>5822.67</td>\n",
       "      <td>6063033.16</td>\n",
       "    </tr>\n",
       "    <tr>\n",
       "      <th>1</th>\n",
       "      <td>Tesouro Prefixado</td>\n",
       "      <td>2025-01-01</td>\n",
       "      <td>2022-07-19</td>\n",
       "      <td>736.962419</td>\n",
       "      <td>21181.39</td>\n",
       "      <td>15609888.41</td>\n",
       "    </tr>\n",
       "    <tr>\n",
       "      <th>2</th>\n",
       "      <td>Tesouro IPCA+ com Juros Semestrais</td>\n",
       "      <td>2055-05-15</td>\n",
       "      <td>2022-07-19</td>\n",
       "      <td>3950.332418</td>\n",
       "      <td>1140.67</td>\n",
       "      <td>4506025.67</td>\n",
       "    </tr>\n",
       "  </tbody>\n",
       "</table>\n",
       "</div>"
      ],
      "text/plain": [
       "                          Tipo Titulo Vencimento do Titulo Data Venda  \\\n",
       "0                       Tesouro IPCA+           2045-05-15 2022-07-19   \n",
       "1                   Tesouro Prefixado           2025-01-01 2022-07-19   \n",
       "2  Tesouro IPCA+ com Juros Semestrais           2055-05-15 2022-07-19   \n",
       "\n",
       "            PU  Quantidade        Valor  \n",
       "0  1041.280575     5822.67   6063033.16  \n",
       "1   736.962419    21181.39  15609888.41  \n",
       "2  3950.332418     1140.67   4506025.67  "
      ]
     },
     "execution_count": 20,
     "metadata": {},
     "output_type": "execute_result"
    }
   ],
   "source": [
    "df.head(3)"
   ]
  },
  {
   "cell_type": "code",
   "execution_count": 21,
   "id": "89f28148",
   "metadata": {},
   "outputs": [],
   "source": [
    "# Eliminando todas as linhas que apresentam pelo menos 1 campo null ou NaN\n",
    "# para uma melhor análise por parte da equipe de analise de dados\n",
    "df.dropna(inplace=True)"
   ]
  },
  {
   "cell_type": "code",
   "execution_count": 22,
   "id": "b49558cb",
   "metadata": {
    "scrolled": true
   },
   "outputs": [
    {
     "name": "stdout",
     "output_type": "stream",
     "text": [
      "<class 'pandas.core.frame.DataFrame'>\n",
      "RangeIndex: 72141 entries, 0 to 72140\n",
      "Data columns (total 6 columns):\n",
      " #   Column                Non-Null Count  Dtype         \n",
      "---  ------                --------------  -----         \n",
      " 0   Tipo Titulo           72141 non-null  object        \n",
      " 1   Vencimento do Titulo  72141 non-null  datetime64[ns]\n",
      " 2   Data Venda            72141 non-null  datetime64[ns]\n",
      " 3   PU                    72141 non-null  float64       \n",
      " 4   Quantidade            72141 non-null  float64       \n",
      " 5   Valor                 72141 non-null  float64       \n",
      "dtypes: datetime64[ns](2), float64(3), object(1)\n",
      "memory usage: 3.3+ MB\n"
     ]
    }
   ],
   "source": [
    "# Não havia nenhuma linha com campo vazio!\n",
    "df.info()"
   ]
  },
  {
   "cell_type": "code",
   "execution_count": 27,
   "id": "bc1a113f",
   "metadata": {},
   "outputs": [],
   "source": [
    "# Carregando a tabela em um arquivo novo\n",
    "df.to_csv('bolsa_processado.csv', sep=';', index=False)"
   ]
  }
 ],
 "metadata": {
  "kernelspec": {
   "display_name": "Python 3 (ipykernel)",
   "language": "python",
   "name": "python3"
  },
  "language_info": {
   "codemirror_mode": {
    "name": "ipython",
    "version": 3
   },
   "file_extension": ".py",
   "mimetype": "text/x-python",
   "name": "python",
   "nbconvert_exporter": "python",
   "pygments_lexer": "ipython3",
   "version": "3.10.9"
  }
 },
 "nbformat": 4,
 "nbformat_minor": 5
}
